{
  "nbformat": 4,
  "nbformat_minor": 0,
  "metadata": {
    "colab": {
      "provenance": [],
      "collapsed_sections": [],
      "mount_file_id": "1-W5j1IV_tvDTyTdRoRiyoqttHPqOlIjK",
      "authorship_tag": "ABX9TyMALjdVl6CGM/HwChmc6lyr",
      "include_colab_link": true
    },
    "kernelspec": {
      "name": "python3",
      "display_name": "Python 3"
    },
    "language_info": {
      "name": "python"
    },
    "accelerator": "GPU"
  },
  "cells": [
    {
      "cell_type": "markdown",
      "metadata": {
        "id": "view-in-github",
        "colab_type": "text"
      },
      "source": [
        "<a href=\"https://colab.research.google.com/github/DivyaDileep2210/Projects/blob/main/int_covidXray.ipynb\" target=\"_parent\"><img src=\"https://colab.research.google.com/assets/colab-badge.svg\" alt=\"Open In Colab\"/></a>"
      ]
    },
    {
      "cell_type": "code",
      "execution_count": null,
      "metadata": {
        "id": "c3TcnUPv7Ffc"
      },
      "outputs": [],
      "source": [
        "from keras.preprocessing.image import ImageDataGenerator\n",
        "train=ImageDataGenerator(rescale=1./255,validation_split=0.2)\n",
        "test=ImageDataGenerator(rescale=1./255)"
      ]
    },
    {
      "cell_type": "code",
      "source": [
        "train_dataset=train.flow_from_directory(\"/content/drive/MyDrive/xray_dataset_covid19/train\",target_size=(224,224),batch_size=32,class_mode='binary',subset=\"training\")\n",
        "valid_dataset=train.flow_from_directory(\"/content/drive/MyDrive/xray_dataset_covid19/train\",target_size=(224,224),batch_size=32,class_mode='binary',subset=\"validation\")\n",
        "test_dataset=test.flow_from_directory(\"/content/drive/MyDrive/xray_dataset_covid19/test\",target_size=(224,224),batch_size=32,class_mode='binary')"
      ],
      "metadata": {
        "colab": {
          "base_uri": "https://localhost:8080/"
        },
        "id": "cSWx9EK77iMx",
        "outputId": "f1f51077-02cb-4fda-ebe2-367bb028bb5c"
      },
      "execution_count": null,
      "outputs": [
        {
          "output_type": "stream",
          "name": "stdout",
          "text": [
            "Found 271 images belonging to 3 classes.\n",
            "Found 65 images belonging to 3 classes.\n",
            "Found 40 images belonging to 2 classes.\n"
          ]
        }
      ]
    },
    {
      "cell_type": "code",
      "source": [
        "from keras.models import Sequential\n",
        "from keras.layers import Conv2D, MaxPool2D, Dense, Flatten, Dropout\n",
        "from keras.utils import np_utils\n",
        "from tensorflow.keras.optimizers import Adam"
      ],
      "metadata": {
        "id": "ECeSNGde7kjm"
      },
      "execution_count": null,
      "outputs": []
    },
    {
      "cell_type": "code",
      "source": [
        "cnn_model=Sequential()\n",
        "cnn_model.add(Conv2D(filters=32,kernel_size=(3,3),strides=2,padding='same',activation='relu',input_shape=(224,224,3)))\n",
        "cnn_model.add(Dropout(0.4))\n",
        "cnn_model.add(MaxPool2D(pool_size=(2,2),strides=(2,2)))\n",
        "\n",
        "cnn_model.add(Conv2D(filters=64,kernel_size=(3,3),padding='same',activation='relu'))\n",
        "cnn_model.add(Dropout(0.4))\n",
        "cnn_model.add(MaxPool2D(pool_size=(2,2),strides=(2,2)))\n",
        "\n",
        "cnn_model.add(Conv2D(filters=128,kernel_size=(5,5),padding='same',activation='relu'))\n",
        "cnn_model.add(Dropout(0.4))\n",
        "cnn_model.add(MaxPool2D(pool_size=(2,2),strides=(2,2)))\n",
        "\n",
        "cnn_model.add(Conv2D(filters=128,kernel_size=(3,3),padding='same',activation='relu'))\n",
        "cnn_model.add(Dropout(0.4))\n",
        "cnn_model.add(MaxPool2D(pool_size=(2,2),strides=(2,2)))\n",
        "\n",
        "cnn_model.add(Conv2D(filters=256,kernel_size=3,padding='same',activation='relu'))\n",
        "cnn_model.add(Dropout(0.4))\n",
        "cnn_model.add(MaxPool2D(pool_size=(2,2),strides=(2,2)))\n",
        "\n",
        "cnn_model.add(Flatten())\n",
        "cnn_model.add(Dropout(0.4))\n",
        "cnn_model.add(Dense(128,activation='relu'))\n",
        "cnn_model.add(Dropout(0.4))\n",
        "cnn_model.add(Dense(512,activation='relu'))\n",
        "cnn_model.add(Dense(4,activation='relu'))\n",
        "cnn_model.add(Dense(1,activation='sigmoid'))\n",
        "\n",
        "cnn_model.summary()"
      ],
      "metadata": {
        "colab": {
          "base_uri": "https://localhost:8080/"
        },
        "id": "VVr7-BWY7nwW",
        "outputId": "aa995d94-a613-4624-c330-c4c809a94d81"
      },
      "execution_count": null,
      "outputs": [
        {
          "output_type": "stream",
          "name": "stdout",
          "text": [
            "Model: \"sequential\"\n",
            "_________________________________________________________________\n",
            " Layer (type)                Output Shape              Param #   \n",
            "=================================================================\n",
            " conv2d (Conv2D)             (None, 112, 112, 32)      896       \n",
            "                                                                 \n",
            " dropout (Dropout)           (None, 112, 112, 32)      0         \n",
            "                                                                 \n",
            " max_pooling2d (MaxPooling2D  (None, 56, 56, 32)       0         \n",
            " )                                                               \n",
            "                                                                 \n",
            " conv2d_1 (Conv2D)           (None, 56, 56, 64)        18496     \n",
            "                                                                 \n",
            " dropout_1 (Dropout)         (None, 56, 56, 64)        0         \n",
            "                                                                 \n",
            " max_pooling2d_1 (MaxPooling  (None, 28, 28, 64)       0         \n",
            " 2D)                                                             \n",
            "                                                                 \n",
            " conv2d_2 (Conv2D)           (None, 28, 28, 128)       204928    \n",
            "                                                                 \n",
            " dropout_2 (Dropout)         (None, 28, 28, 128)       0         \n",
            "                                                                 \n",
            " max_pooling2d_2 (MaxPooling  (None, 14, 14, 128)      0         \n",
            " 2D)                                                             \n",
            "                                                                 \n",
            " conv2d_3 (Conv2D)           (None, 14, 14, 128)       147584    \n",
            "                                                                 \n",
            " dropout_3 (Dropout)         (None, 14, 14, 128)       0         \n",
            "                                                                 \n",
            " max_pooling2d_3 (MaxPooling  (None, 7, 7, 128)        0         \n",
            " 2D)                                                             \n",
            "                                                                 \n",
            " conv2d_4 (Conv2D)           (None, 7, 7, 256)         295168    \n",
            "                                                                 \n",
            " dropout_4 (Dropout)         (None, 7, 7, 256)         0         \n",
            "                                                                 \n",
            " max_pooling2d_4 (MaxPooling  (None, 3, 3, 256)        0         \n",
            " 2D)                                                             \n",
            "                                                                 \n",
            " flatten (Flatten)           (None, 2304)              0         \n",
            "                                                                 \n",
            " dropout_5 (Dropout)         (None, 2304)              0         \n",
            "                                                                 \n",
            " dense (Dense)               (None, 128)               295040    \n",
            "                                                                 \n",
            " dropout_6 (Dropout)         (None, 128)               0         \n",
            "                                                                 \n",
            " dense_1 (Dense)             (None, 512)               66048     \n",
            "                                                                 \n",
            " dense_2 (Dense)             (None, 4)                 2052      \n",
            "                                                                 \n",
            " dense_3 (Dense)             (None, 1)                 5         \n",
            "                                                                 \n",
            "=================================================================\n",
            "Total params: 1,030,217\n",
            "Trainable params: 1,030,217\n",
            "Non-trainable params: 0\n",
            "_________________________________________________________________\n"
          ]
        }
      ]
    },
    {
      "cell_type": "code",
      "source": [
        "alex_model=Sequential()\n",
        "alex_model.add(Conv2D(filters=96,kernel_size=(11,11),strides=(4,4),activation='relu',input_shape=(224,224,3)))\n",
        "alex_model.add(MaxPool2D(pool_size=(3,3),strides=(2,2)))\n",
        "\n",
        "alex_model.add(Conv2D(filters=256,kernel_size=(5,5),padding='same',activation='relu'))\n",
        "alex_model.add(MaxPool2D(pool_size=(3,3),strides=(2,2)))\n",
        "\n",
        "alex_model.add(Conv2D(filters=384,kernel_size=(3,3),padding='same',activation='relu'))\n",
        "\n",
        "alex_model.add(Conv2D(filters=384,kernel_size=(3,3),padding='same',activation='relu'))\n",
        "\n",
        "alex_model.add(Conv2D(filters=256,kernel_size=(3,3),padding='same',activation='relu'))\n",
        "alex_model.add(MaxPool2D(pool_size=(3,3),strides=(2,2)))\n",
        "\n",
        "alex_model.add(Flatten())\n",
        "alex_model.add(Dense(4096,activation='relu'))\n",
        "alex_model.add(Dropout(0.4))\n",
        "alex_model.add(Dense(4096,activation='relu'))\n",
        "alex_model.add(Dropout(0.4))\n",
        "alex_model.add(Dense(1,activation='sigmoid'))\n",
        "\n",
        "alex_model.summary()"
      ],
      "metadata": {
        "colab": {
          "base_uri": "https://localhost:8080/"
        },
        "id": "tgXjjIIT7qNb",
        "outputId": "d9f5aac4-5239-4146-b68a-4d9329e488da"
      },
      "execution_count": null,
      "outputs": [
        {
          "output_type": "stream",
          "name": "stdout",
          "text": [
            "Model: \"sequential_1\"\n",
            "_________________________________________________________________\n",
            " Layer (type)                Output Shape              Param #   \n",
            "=================================================================\n",
            " conv2d_5 (Conv2D)           (None, 54, 54, 96)        34944     \n",
            "                                                                 \n",
            " max_pooling2d_5 (MaxPooling  (None, 26, 26, 96)       0         \n",
            " 2D)                                                             \n",
            "                                                                 \n",
            " conv2d_6 (Conv2D)           (None, 26, 26, 256)       614656    \n",
            "                                                                 \n",
            " max_pooling2d_6 (MaxPooling  (None, 12, 12, 256)      0         \n",
            " 2D)                                                             \n",
            "                                                                 \n",
            " conv2d_7 (Conv2D)           (None, 12, 12, 384)       885120    \n",
            "                                                                 \n",
            " conv2d_8 (Conv2D)           (None, 12, 12, 384)       1327488   \n",
            "                                                                 \n",
            " conv2d_9 (Conv2D)           (None, 12, 12, 256)       884992    \n",
            "                                                                 \n",
            " max_pooling2d_7 (MaxPooling  (None, 5, 5, 256)        0         \n",
            " 2D)                                                             \n",
            "                                                                 \n",
            " flatten_1 (Flatten)         (None, 6400)              0         \n",
            "                                                                 \n",
            " dense_4 (Dense)             (None, 4096)              26218496  \n",
            "                                                                 \n",
            " dropout_7 (Dropout)         (None, 4096)              0         \n",
            "                                                                 \n",
            " dense_5 (Dense)             (None, 4096)              16781312  \n",
            "                                                                 \n",
            " dropout_8 (Dropout)         (None, 4096)              0         \n",
            "                                                                 \n",
            " dense_6 (Dense)             (None, 1)                 4097      \n",
            "                                                                 \n",
            "=================================================================\n",
            "Total params: 46,751,105\n",
            "Trainable params: 46,751,105\n",
            "Non-trainable params: 0\n",
            "_________________________________________________________________\n"
          ]
        }
      ]
    },
    {
      "cell_type": "code",
      "source": [
        "from tensorflow.keras.optimizers import Adam"
      ],
      "metadata": {
        "id": "0Fkjmx6Y7tUU"
      },
      "execution_count": null,
      "outputs": []
    },
    {
      "cell_type": "code",
      "source": [
        "cnn_model.compile(optimizer=\"adam\",loss='binary_crossentropy',metrics=['accuracy'])\n",
        "alex_model.compile(optimizer=\"adam\",loss='binary_crossentropy',metrics=['accuracy'])"
      ],
      "metadata": {
        "id": "A1nW0s7y7v2P"
      },
      "execution_count": null,
      "outputs": []
    },
    {
      "cell_type": "code",
      "source": [
        "from keras.callbacks import EarlyStopping\n",
        "earlystop=EarlyStopping(monitor='val_loss',min_delta=0,patience=3,verbose=1,\n",
        "                        restore_best_weights=True)"
      ],
      "metadata": {
        "id": "cUAHhpzu7x27"
      },
      "execution_count": null,
      "outputs": []
    },
    {
      "cell_type": "code",
      "source": [
        "cnn_his = cnn_model.fit(train_dataset,batch_size=32,epochs=30,validation_data=valid_dataset)"
      ],
      "metadata": {
        "colab": {
          "base_uri": "https://localhost:8080/"
        },
        "id": "QNnWiy827zgb",
        "outputId": "ede35054-60a7-4606-bfc1-15f91c176372"
      },
      "execution_count": null,
      "outputs": [
        {
          "output_type": "stream",
          "name": "stdout",
          "text": [
            "Epoch 1/30\n",
            "9/9 [==============================] - 95s 10s/step - loss: -1938.4105 - accuracy: 0.2177 - val_loss: -1368.4541 - val_accuracy: 0.2154\n",
            "Epoch 2/30\n",
            "9/9 [==============================] - 11s 1s/step - loss: -276667.3750 - accuracy: 0.2214 - val_loss: -215930.7656 - val_accuracy: 0.2154\n",
            "Epoch 3/30\n",
            "9/9 [==============================] - 10s 1s/step - loss: -13603166.0000 - accuracy: 0.2214 - val_loss: -6624021.5000 - val_accuracy: 0.2154\n",
            "Epoch 4/30\n",
            "9/9 [==============================] - 10s 1s/step - loss: -303508416.0000 - accuracy: 0.2214 - val_loss: -117206696.0000 - val_accuracy: 0.2154\n",
            "Epoch 5/30\n",
            "9/9 [==============================] - 10s 1s/step - loss: -3424678144.0000 - accuracy: 0.2214 - val_loss: -1215313408.0000 - val_accuracy: 0.2154\n",
            "Epoch 6/30\n",
            "9/9 [==============================] - 10s 1s/step - loss: -32928010240.0000 - accuracy: 0.2214 - val_loss: -9312432128.0000 - val_accuracy: 0.2154\n",
            "Epoch 7/30\n",
            "9/9 [==============================] - 10s 1s/step - loss: -204994297856.0000 - accuracy: 0.2214 - val_loss: -59754827776.0000 - val_accuracy: 0.2154\n",
            "Epoch 8/30\n",
            "9/9 [==============================] - 10s 1s/step - loss: -1244036333568.0000 - accuracy: 0.2214 - val_loss: -301401505792.0000 - val_accuracy: 0.2154\n",
            "Epoch 9/30\n",
            "9/9 [==============================] - 10s 1s/step - loss: -5999708602368.0000 - accuracy: 0.2214 - val_loss: -1235023953920.0000 - val_accuracy: 0.2154\n",
            "Epoch 10/30\n",
            "9/9 [==============================] - 10s 1s/step - loss: -20994112618496.0000 - accuracy: 0.2214 - val_loss: -4470398779392.0000 - val_accuracy: 0.2154\n",
            "Epoch 11/30\n",
            "9/9 [==============================] - 10s 1s/step - loss: -74153549889536.0000 - accuracy: 0.2214 - val_loss: -15038906630144.0000 - val_accuracy: 0.2154\n",
            "Epoch 12/30\n",
            "9/9 [==============================] - 10s 1s/step - loss: -228946234834944.0000 - accuracy: 0.2214 - val_loss: -44159461228544.0000 - val_accuracy: 0.2154\n",
            "Epoch 13/30\n",
            "9/9 [==============================] - 11s 1s/step - loss: -658582232104960.0000 - accuracy: 0.2214 - val_loss: -118906354139136.0000 - val_accuracy: 0.2154\n",
            "Epoch 14/30\n",
            "9/9 [==============================] - 10s 1s/step - loss: -1589716243709952.0000 - accuracy: 0.2214 - val_loss: -295039120965632.0000 - val_accuracy: 0.2154\n",
            "Epoch 15/30\n",
            "9/9 [==============================] - 10s 1s/step - loss: -3711873140654080.0000 - accuracy: 0.2214 - val_loss: -683098912063488.0000 - val_accuracy: 0.2154\n",
            "Epoch 16/30\n",
            "9/9 [==============================] - 10s 1s/step - loss: -9411163477508096.0000 - accuracy: 0.2214 - val_loss: -1496265539977216.0000 - val_accuracy: 0.2154\n",
            "Epoch 17/30\n",
            "9/9 [==============================] - 10s 1s/step - loss: -18338314205528064.0000 - accuracy: 0.2214 - val_loss: -3144456689680384.0000 - val_accuracy: 0.2154\n",
            "Epoch 18/30\n",
            "9/9 [==============================] - 10s 1s/step - loss: -38501607259766784.0000 - accuracy: 0.2214 - val_loss: -6311261167943680.0000 - val_accuracy: 0.2154\n",
            "Epoch 19/30\n",
            "9/9 [==============================] - 10s 1s/step - loss: -73587581647847424.0000 - accuracy: 0.2214 - val_loss: -12052993566310400.0000 - val_accuracy: 0.2154\n",
            "Epoch 20/30\n",
            "9/9 [==============================] - 10s 1s/step - loss: -139579453503176704.0000 - accuracy: 0.2214 - val_loss: -22242173189619712.0000 - val_accuracy: 0.2154\n",
            "Epoch 21/30\n",
            "9/9 [==============================] - 10s 1s/step - loss: -250148808103559168.0000 - accuracy: 0.2214 - val_loss: -39868300213092352.0000 - val_accuracy: 0.2154\n",
            "Epoch 22/30\n",
            "9/9 [==============================] - 10s 1s/step - loss: -479456132784455680.0000 - accuracy: 0.2214 - val_loss: -67123303680049152.0000 - val_accuracy: 0.2154\n",
            "Epoch 23/30\n",
            "9/9 [==============================] - 10s 1s/step - loss: -747521053365895168.0000 - accuracy: 0.2214 - val_loss: -116178221111705600.0000 - val_accuracy: 0.2154\n",
            "Epoch 24/30\n",
            "9/9 [==============================] - 10s 1s/step - loss: -1299604189772513280.0000 - accuracy: 0.2214 - val_loss: -191769499492417536.0000 - val_accuracy: 0.2154\n",
            "Epoch 25/30\n",
            "9/9 [==============================] - 11s 1s/step - loss: -2247586210249703424.0000 - accuracy: 0.2214 - val_loss: -301157025121828864.0000 - val_accuracy: 0.2154\n",
            "Epoch 26/30\n",
            "9/9 [==============================] - 10s 1s/step - loss: -3292595596392660992.0000 - accuracy: 0.2214 - val_loss: -472118370137800704.0000 - val_accuracy: 0.2154\n",
            "Epoch 27/30\n",
            "9/9 [==============================] - 10s 1s/step - loss: -4979920708906778624.0000 - accuracy: 0.2214 - val_loss: -721909304386387968.0000 - val_accuracy: 0.2154\n",
            "Epoch 28/30\n",
            "9/9 [==============================] - 10s 1s/step - loss: -7307536797129506816.0000 - accuracy: 0.2214 - val_loss: -1089730509774258176.0000 - val_accuracy: 0.2154\n",
            "Epoch 29/30\n",
            "9/9 [==============================] - 10s 1s/step - loss: -11624977011289620480.0000 - accuracy: 0.2214 - val_loss: -1616566866342313984.0000 - val_accuracy: 0.2154\n",
            "Epoch 30/30\n",
            "9/9 [==============================] - 10s 1s/step - loss: -17502502179473195008.0000 - accuracy: 0.2214 - val_loss: -2395674483592527872.0000 - val_accuracy: 0.2154\n"
          ]
        }
      ]
    },
    {
      "cell_type": "code",
      "source": [
        "alex_his=alex_model.fit(train_dataset,batch_size=32,epochs=20,validation_data=valid_dataset)"
      ],
      "metadata": {
        "colab": {
          "base_uri": "https://localhost:8080/"
        },
        "id": "QN0rxGqY712i",
        "outputId": "a6cd02e5-97e5-466c-facf-6d5828ba198b"
      },
      "execution_count": null,
      "outputs": [
        {
          "output_type": "stream",
          "name": "stdout",
          "text": [
            "Epoch 1/20\n",
            "9/9 [==============================] - 12s 1s/step - loss: -4060527.5000 - accuracy: 0.2288 - val_loss: -50278140.0000 - val_accuracy: 0.2154\n",
            "Epoch 2/20\n",
            "9/9 [==============================] - 10s 1s/step - loss: -2635127040.0000 - accuracy: 0.2214 - val_loss: -19165231104.0000 - val_accuracy: 0.2154\n",
            "Epoch 3/20\n",
            "9/9 [==============================] - 10s 1s/step - loss: -168978432000.0000 - accuracy: 0.2214 - val_loss: -904803647488.0000 - val_accuracy: 0.2154\n",
            "Epoch 4/20\n",
            "9/9 [==============================] - 10s 1s/step - loss: -4337771479040.0000 - accuracy: 0.2214 - val_loss: -17969304305664.0000 - val_accuracy: 0.2154\n",
            "Epoch 5/20\n",
            "9/9 [==============================] - 10s 1s/step - loss: -56333302759424.0000 - accuracy: 0.2214 - val_loss: -227562080960512.0000 - val_accuracy: 0.2154\n",
            "Epoch 6/20\n",
            "9/9 [==============================] - 11s 1s/step - loss: -659563497914368.0000 - accuracy: 0.2214 - val_loss: -1848211400556544.0000 - val_accuracy: 0.2154\n",
            "Epoch 7/20\n",
            "9/9 [==============================] - 10s 1s/step - loss: -4223383612948480.0000 - accuracy: 0.2214 - val_loss: -10886890618093568.0000 - val_accuracy: 0.2154\n",
            "Epoch 8/20\n",
            "9/9 [==============================] - 10s 1s/step - loss: -24574550884745216.0000 - accuracy: 0.2214 - val_loss: -52299511820713984.0000 - val_accuracy: 0.2154\n",
            "Epoch 9/20\n",
            "9/9 [==============================] - 10s 1s/step - loss: -89247874222653440.0000 - accuracy: 0.2214 - val_loss: -212596757983395840.0000 - val_accuracy: 0.2154\n",
            "Epoch 10/20\n",
            "9/9 [==============================] - 10s 1s/step - loss: -357095538178392064.0000 - accuracy: 0.2214 - val_loss: -749794568534228992.0000 - val_accuracy: 0.2154\n",
            "Epoch 11/20\n",
            "9/9 [==============================] - 10s 1s/step - loss: -1188627594963058688.0000 - accuracy: 0.2214 - val_loss: -2387598845564420096.0000 - val_accuracy: 0.2154\n",
            "Epoch 12/20\n",
            "9/9 [==============================] - 10s 1s/step - loss: -3122644358965231616.0000 - accuracy: 0.2214 - val_loss: -6462944741230116864.0000 - val_accuracy: 0.2154\n",
            "Epoch 13/20\n",
            "9/9 [==============================] - 10s 1s/step - loss: -8779923054454112256.0000 - accuracy: 0.2214 - val_loss: -15950586596844109824.0000 - val_accuracy: 0.2154\n",
            "Epoch 14/20\n",
            "9/9 [==============================] - 10s 1s/step - loss: -21950223526408486912.0000 - accuracy: 0.2214 - val_loss: -38866258298253869056.0000 - val_accuracy: 0.2154\n",
            "Epoch 15/20\n",
            "9/9 [==============================] - 10s 1s/step - loss: -50249515374758330368.0000 - accuracy: 0.2214 - val_loss: -91402867809949057024.0000 - val_accuracy: 0.2154\n",
            "Epoch 16/20\n",
            "9/9 [==============================] - 10s 1s/step - loss: -117823771585592426496.0000 - accuracy: 0.2214 - val_loss: -197568658343720910848.0000 - val_accuracy: 0.2154\n",
            "Epoch 17/20\n",
            "9/9 [==============================] - 10s 1s/step - loss: -243028608708910252032.0000 - accuracy: 0.2214 - val_loss: -405711276031298502656.0000 - val_accuracy: 0.2154\n",
            "Epoch 18/20\n",
            "9/9 [==============================] - 11s 1s/step - loss: -503484529494628237312.0000 - accuracy: 0.2214 - val_loss: -788163641418297901056.0000 - val_accuracy: 0.2154\n",
            "Epoch 19/20\n",
            "9/9 [==============================] - 10s 1s/step - loss: -957042575732692221952.0000 - accuracy: 0.2214 - val_loss: -1494825358905095225344.0000 - val_accuracy: 0.2154\n",
            "Epoch 20/20\n",
            "9/9 [==============================] - 10s 1s/step - loss: -1753979088487619493888.0000 - accuracy: 0.2214 - val_loss: -2691717336261308973056.0000 - val_accuracy: 0.2154\n"
          ]
        }
      ]
    },
    {
      "cell_type": "code",
      "source": [
        "cnn_model.evaluate(test_dataset)"
      ],
      "metadata": {
        "colab": {
          "base_uri": "https://localhost:8080/"
        },
        "id": "j3XY_7Vz8SiG",
        "outputId": "28b02d46-23bf-4609-f15d-ee9b9ae049ea"
      },
      "execution_count": null,
      "outputs": [
        {
          "output_type": "stream",
          "name": "stdout",
          "text": [
            "2/2 [==============================] - 3s 2s/step - loss: 3139902293474803712.0000 - accuracy: 0.5000\n"
          ]
        },
        {
          "output_type": "execute_result",
          "data": {
            "text/plain": [
              "[3.1399022934748037e+18, 0.5]"
            ]
          },
          "metadata": {},
          "execution_count": 11
        }
      ]
    },
    {
      "cell_type": "code",
      "source": [
        "alex_model.evaluate(test_dataset)"
      ],
      "metadata": {
        "colab": {
          "base_uri": "https://localhost:8080/"
        },
        "id": "m7fVkKWO-xHE",
        "outputId": "601ab1ea-d1fc-4dab-a8c0-b992fafd0fc8"
      },
      "execution_count": null,
      "outputs": [
        {
          "output_type": "stream",
          "name": "stdout",
          "text": [
            "2/2 [==============================] - 1s 324ms/step - loss: 3560239339149476233216.0000 - accuracy: 0.5000\n"
          ]
        },
        {
          "output_type": "execute_result",
          "data": {
            "text/plain": [
              "[3.560239339149476e+21, 0.5]"
            ]
          },
          "metadata": {},
          "execution_count": 12
        }
      ]
    },
    {
      "cell_type": "code",
      "source": [
        "from matplotlib import pyplot as plt\n",
        "acc = cnn_his.history['accuracy']\n",
        "val_acc = cnn_his.history['val_accuracy']\n",
        "\n",
        "loss = cnn_his.history['loss']\n",
        "val_loss = cnn_his.history['val_loss']\n",
        "\n",
        "epochs = range(len(acc))\n",
        "\n",
        "\n",
        "plt.plot(epochs, acc)\n",
        "plt.plot(epochs, val_acc)\n",
        "plt.title('Training and validation accuracy of CNN Model in Covid X-RAY Dataset')\n",
        "\n",
        "plt.figure()\n",
        "\n",
        "\n",
        "plt.plot(epochs, loss)\n",
        "plt.plot(epochs, val_loss)\n",
        "plt.title('Training and validation loss of CNN Model in Covid X-RAY Dataset')"
      ],
      "metadata": {
        "colab": {
          "base_uri": "https://localhost:8080/",
          "height": 562
        },
        "id": "Y3QaNj8q-zLz",
        "outputId": "9010d6cf-0ab5-4c9a-f33c-610c5383bf8b"
      },
      "execution_count": null,
      "outputs": [
        {
          "output_type": "execute_result",
          "data": {
            "text/plain": [
              "Text(0.5, 1.0, 'Training and validation loss of CNN Model in Covid X-RAY Dataset')"
            ]
          },
          "metadata": {},
          "execution_count": 13
        },
        {
          "output_type": "display_data",
          "data": {
            "text/plain": [
              "<Figure size 432x288 with 1 Axes>"
            ],
            "image/png": "[encoded data removed]"
          },
          "metadata": {
            "needs_background": "light"
          }
        },
        {
          "output_type": "display_data",
          "data": {
            "text/plain": [
              "<Figure size 432x288 with 1 Axes>"
            ],
            "image/png": "[encoded data removed]"
          },
          "metadata": {
            "needs_background": "light"
          }
        }
      ]
    },
    {
      "cell_type": "code",
      "source": [
        "acc = alex_his.history['accuracy']\n",
        "val_acc = alex_his.history['val_accuracy']\n",
        "\n",
        "loss = alex_his.history['loss']\n",
        "val_loss = alex_his.history['val_loss']\n",
        "\n",
        "epochs = range(len(acc))\n",
        "\n",
        "\n",
        "plt.plot(epochs, acc)\n",
        "plt.plot(epochs, val_acc)\n",
        "plt.title('Training and validation accuracy of Alexnet Model in Covid X-RAY Dataset')\n",
        "\n",
        "plt.figure()\n",
        "\n",
        "plt.plot(epochs, loss)\n",
        "plt.plot(epochs, val_loss)\n",
        "plt.title('Training and validation loss of Alexnet Model in Covid X-RAY Dataset')"
      ],
      "metadata": {
        "colab": {
          "base_uri": "https://localhost:8080/",
          "height": 562
        },
        "id": "eFJ3q44S_Gto",
        "outputId": "17dfb9e2-041c-47fb-e15a-4d2c6d8de61c"
      },
      "execution_count": null,
      "outputs": [
        {
          "output_type": "execute_result",
          "data": {
            "text/plain": [
              "Text(0.5, 1.0, 'Training and validation loss of Alexnet Model in Covid X-RAY Dataset')"
            ]
          },
          "metadata": {},
          "execution_count": 14
        },
        {
          "output_type": "display_data",
          "data": {
            "text/plain": [
              "<Figure size 432x288 with 1 Axes>"
            ],
            "image/png": "[encoded data removed]"
          },
          "metadata": {
            "needs_background": "light"
          }
        },
        {
          "output_type": "display_data",
          "data": {
            "text/plain": [
              "<Figure size 432x288 with 1 Axes>"
            ],
            "image/png": "[encoded data removed]"
          },
          "metadata": {
            "needs_background": "light"
          }
        }
      ]
    },
    {
      "cell_type": "code",
      "source": [],
      "metadata": {
        "id": "3pxSjryS_JkD"
      },
      "execution_count": null,
      "outputs": []
    }
  ]
}